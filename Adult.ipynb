{
 "cells": [
  {
   "cell_type": "code",
   "execution_count": 1,
   "metadata": {
    "colab": {
     "base_uri": "https://localhost:8080/"
    },
    "executionInfo": {
     "elapsed": 2809,
     "status": "ok",
     "timestamp": 1619040342316,
     "user": {
      "displayName": "Roye Katzav",
      "photoUrl": "",
      "userId": "04460651837835716017"
     },
     "user_tz": -180
    },
    "id": "YCbFJMe9C3wh",
    "outputId": "a01877ff-6ab3-4418-8ca2-cf8c0fb86e54"
   },
   "outputs": [],
   "source": [
    "\"\"\"\n",
    "!pip install rdt\n",
    "#this lines only needed to run with google colab\n",
    "from google.colab import drive\n",
    "drive.mount('/content/drive/')\n",
    "import sys\n",
    "sys.path.append(\"/content/drive/My Drive/CTGAN/CTGAN\")#save the git project in CTGAN directory and the git project name is CTGAN (do not forget)\n",
    "#all of this are saved in google drive of my university account(the directory CTGAN CTGAN is in it)\n",
    "#this lines only needed to run with google colab\n",
    "\"\"\"\n",
    "import warnings\n",
    "from collections import Counter\n",
    "warnings.filterwarnings(\"ignore\")\n",
    "\n",
    "import pickle\n",
    "import os\n",
    "import pandas as pd\n",
    "import numpy as np\n",
    "import matplotlib.pyplot as plt\n",
    "\n",
    "from ctgan import CTGANSynthesizer\n",
    "from sklearn.ensemble import RandomForestClassifier\n",
    "from sklearn.model_selection import train_test_split\n",
    "from sklearn.preprocessing import LabelEncoder\n",
    "from utils import *\n",
    "\n",
    "MODELS_PATH = './models'\n",
    "DATA_PATH = './data/'\n",
    "dataset = 'adult'\n",
    "seed = 1\n",
    "np.random.seed(seed)"
   ]
  },
  {
   "cell_type": "code",
   "execution_count": 2,
   "metadata": {
    "executionInfo": {
     "elapsed": 598,
     "status": "ok",
     "timestamp": 1619040347945,
     "user": {
      "displayName": "Roye Katzav",
      "photoUrl": "",
      "userId": "04460651837835716017"
     },
     "user_tz": -180
    },
    "id": "TAenpEzlC3wo"
   },
   "outputs": [],
   "source": [
    "from ctgan import load_demo\n",
    "data = load_demo()\n",
    "\n",
    "categorical_features = [\n",
    "    'workclass',\n",
    "    'education',\n",
    "    'marital-status',\n",
    "    'occupation',\n",
    "    'relationship',\n",
    "    'race',\n",
    "    'sex',\n",
    "    'native-country',\n",
    "]\n",
    "\n",
    "data = data.drop(columns=categorical_features)"
   ]
  },
  {
   "cell_type": "code",
   "execution_count": 3,
   "metadata": {
    "executionInfo": {
     "elapsed": 598,
     "status": "ok",
     "timestamp": 1619040350353,
     "user": {
      "displayName": "Roye Katzav",
      "photoUrl": "",
      "userId": "04460651837835716017"
     },
     "user_tz": -180
    },
    "id": "xxvSu4k3C3wo"
   },
   "outputs": [],
   "source": [
    "X, y = data.iloc[:, :-1], data.iloc[:, -1]\n",
    "le = LabelEncoder()\n",
    "y = le.fit_transform(y)"
   ]
  },
  {
   "cell_type": "code",
   "execution_count": 4,
   "metadata": {
    "colab": {
     "base_uri": "https://localhost:8080/"
    },
    "executionInfo": {
     "elapsed": 4356,
     "status": "ok",
     "timestamp": 1619040358957,
     "user": {
      "displayName": "Roye Katzav",
      "photoUrl": "",
      "userId": "04460651837835716017"
     },
     "user_tz": -180
    },
    "id": "oSsb1py1C3wp",
    "outputId": "8bd17842-d930-4898-938a-a11ea93a6bd3"
   },
   "outputs": [
    {
     "name": "stdout",
     "output_type": "stream",
     "text": [
      "model score: 0.809\n"
     ]
    }
   ],
   "source": [
    "# Append classifier to preprocessing pipeline.\n",
    "# Now we have a full prediction pipeline.\n",
    "categorical_features = []\n",
    "preprocessor = get_preprocessor(X, categorical_features)\n",
    "rf = RandomForestClassifier(n_jobs=-1, random_state=seed)\n",
    "\n",
    "clf = Pipeline(steps=[('preprocessor', preprocessor),\n",
    "                      ('classifier', rf)])\n",
    "\n",
    "X_train, X_test, y_train, y_test = train_test_split(X, y, test_size=0.2, random_state=seed)\n",
    "\n",
    "#keep train alone and test alone for create excel file in code\n",
    "#further in the code\n",
    "X_train_data = X_train.to_numpy()\n",
    "#excel code use ndarray while here it DATAFRAME\n",
    "X_test_data = X_test.to_numpy()\n",
    "#excel code use ndarray while here it DATAFRAME\n",
    "y_train_data = y_train\n",
    "y_test_data= y_test\n",
    "# will used it after/before training\n",
    "#print(X_test_data)\n",
    "\n",
    "\n",
    "\n",
    "clf.fit(X_train, y_train)\n",
    "print(\"model score: %.3f\" % clf.score(X_test, y_test))"
   ]
  },
  {
   "cell_type": "code",
   "execution_count": 5,
   "metadata": {
    "colab": {
     "base_uri": "https://localhost:8080/",
     "height": 402
    },
    "executionInfo": {
     "elapsed": 732,
     "status": "ok",
     "timestamp": 1619039945594,
     "user": {
      "displayName": "Roye Katzav",
      "photoUrl": "",
      "userId": "04460651837835716017"
     },
     "user_tz": -180
    },
    "id": "f5mx2XgsC3wq",
    "outputId": "3182d929-a6ef-4c8c-fe3d-f8595c8b38b7"
   },
   "outputs": [
    {
     "data": {
      "text/html": [
       "<div>\n",
       "<style scoped>\n",
       "    .dataframe tbody tr th:only-of-type {\n",
       "        vertical-align: middle;\n",
       "    }\n",
       "\n",
       "    .dataframe tbody tr th {\n",
       "        vertical-align: top;\n",
       "    }\n",
       "\n",
       "    .dataframe thead th {\n",
       "        text-align: right;\n",
       "    }\n",
       "</style>\n",
       "<table border=\"1\" class=\"dataframe\">\n",
       "  <thead>\n",
       "    <tr style=\"text-align: right;\">\n",
       "      <th></th>\n",
       "      <th>age</th>\n",
       "      <th>fnlwgt</th>\n",
       "      <th>education-num</th>\n",
       "      <th>capital-gain</th>\n",
       "      <th>capital-loss</th>\n",
       "      <th>hours-per-week</th>\n",
       "    </tr>\n",
       "  </thead>\n",
       "  <tbody>\n",
       "    <tr>\n",
       "      <th>16465</th>\n",
       "      <td>39</td>\n",
       "      <td>188571</td>\n",
       "      <td>7</td>\n",
       "      <td>0</td>\n",
       "      <td>0</td>\n",
       "      <td>40</td>\n",
       "    </tr>\n",
       "    <tr>\n",
       "      <th>5625</th>\n",
       "      <td>54</td>\n",
       "      <td>105010</td>\n",
       "      <td>13</td>\n",
       "      <td>0</td>\n",
       "      <td>0</td>\n",
       "      <td>40</td>\n",
       "    </tr>\n",
       "    <tr>\n",
       "      <th>30273</th>\n",
       "      <td>32</td>\n",
       "      <td>156464</td>\n",
       "      <td>9</td>\n",
       "      <td>0</td>\n",
       "      <td>1902</td>\n",
       "      <td>50</td>\n",
       "    </tr>\n",
       "    <tr>\n",
       "      <th>3136</th>\n",
       "      <td>45</td>\n",
       "      <td>32172</td>\n",
       "      <td>10</td>\n",
       "      <td>0</td>\n",
       "      <td>0</td>\n",
       "      <td>50</td>\n",
       "    </tr>\n",
       "    <tr>\n",
       "      <th>4521</th>\n",
       "      <td>60</td>\n",
       "      <td>146674</td>\n",
       "      <td>6</td>\n",
       "      <td>0</td>\n",
       "      <td>0</td>\n",
       "      <td>40</td>\n",
       "    </tr>\n",
       "    <tr>\n",
       "      <th>...</th>\n",
       "      <td>...</td>\n",
       "      <td>...</td>\n",
       "      <td>...</td>\n",
       "      <td>...</td>\n",
       "      <td>...</td>\n",
       "      <td>...</td>\n",
       "    </tr>\n",
       "    <tr>\n",
       "      <th>32511</th>\n",
       "      <td>25</td>\n",
       "      <td>514716</td>\n",
       "      <td>13</td>\n",
       "      <td>0</td>\n",
       "      <td>0</td>\n",
       "      <td>40</td>\n",
       "    </tr>\n",
       "    <tr>\n",
       "      <th>5192</th>\n",
       "      <td>32</td>\n",
       "      <td>207668</td>\n",
       "      <td>13</td>\n",
       "      <td>15024</td>\n",
       "      <td>0</td>\n",
       "      <td>45</td>\n",
       "    </tr>\n",
       "    <tr>\n",
       "      <th>12172</th>\n",
       "      <td>27</td>\n",
       "      <td>104457</td>\n",
       "      <td>13</td>\n",
       "      <td>0</td>\n",
       "      <td>0</td>\n",
       "      <td>40</td>\n",
       "    </tr>\n",
       "    <tr>\n",
       "      <th>235</th>\n",
       "      <td>59</td>\n",
       "      <td>268700</td>\n",
       "      <td>9</td>\n",
       "      <td>0</td>\n",
       "      <td>0</td>\n",
       "      <td>40</td>\n",
       "    </tr>\n",
       "    <tr>\n",
       "      <th>29733</th>\n",
       "      <td>33</td>\n",
       "      <td>59083</td>\n",
       "      <td>13</td>\n",
       "      <td>0</td>\n",
       "      <td>1902</td>\n",
       "      <td>45</td>\n",
       "    </tr>\n",
       "  </tbody>\n",
       "</table>\n",
       "<p>26048 rows × 6 columns</p>\n",
       "</div>"
      ],
      "text/plain": [
       "       age  fnlwgt  education-num  capital-gain  capital-loss  hours-per-week\n",
       "16465   39  188571              7             0             0              40\n",
       "5625    54  105010             13             0             0              40\n",
       "30273   32  156464              9             0          1902              50\n",
       "3136    45   32172             10             0             0              50\n",
       "4521    60  146674              6             0             0              40\n",
       "...    ...     ...            ...           ...           ...             ...\n",
       "32511   25  514716             13             0             0              40\n",
       "5192    32  207668             13         15024             0              45\n",
       "12172   27  104457             13             0             0              40\n",
       "235     59  268700              9             0             0              40\n",
       "29733   33   59083             13             0          1902              45\n",
       "\n",
       "[26048 rows x 6 columns]"
      ]
     },
     "execution_count": 5,
     "metadata": {},
     "output_type": "execute_result"
    }
   ],
   "source": [
    "X_train"
   ]
  },
  {
   "cell_type": "code",
   "execution_count": 6,
   "metadata": {
    "colab": {
     "base_uri": "https://localhost:8080/",
     "height": 345
    },
    "executionInfo": {
     "elapsed": 1360,
     "status": "ok",
     "timestamp": 1619040365516,
     "user": {
      "displayName": "Roye Katzav",
      "photoUrl": "",
      "userId": "04460651837835716017"
     },
     "user_tz": -180
    },
    "id": "TT7fboH5C3wq",
    "outputId": "c2a71d24-9b2b-47d5-c03f-f19aec0f9ff4"
   },
   "outputs": [
    {
     "data": {
      "image/png": "[encoded data removed]",
      "text/plain": [
       "<Figure size 1080x360 with 1 Axes>"
      ]
     },
     "metadata": {
      "needs_background": "light"
     },
     "output_type": "display_data"
    }
   ],
   "source": [
    "y_prob = clf.predict_proba(X_train)\n",
    "y_conf_train = y_prob[:, 0]  # confidence scores\n",
    "plot_confidence_levels(y_conf_train, \"Confidence scores for X_train\")"
   ]
  },
  {
   "cell_type": "code",
   "execution_count": 10,
   "metadata": {
    "executionInfo": {
     "elapsed": 609,
     "status": "ok",
     "timestamp": 1619040369483,
     "user": {
      "displayName": "Roye Katzav",
      "photoUrl": "",
      "userId": "04460651837835716017"
     },
     "user_tz": -180
    },
    "id": "xQ7Wt7ypC3wr"
   },
   "outputs": [
    {
     "name": "stdout",
     "output_type": "stream",
     "text": [
      "conf bucket values:\n",
      "\n",
      "[ 2353  1250  1407  1164   162    62   380  1337  2664 15269]\n",
      "conf bucket sum of vals:\n",
      "\n",
      "26048\n"
     ]
    }
   ],
   "source": [
    "# Create bucket (intervals) from generated data\n",
    "top_c = 10\n",
    "conf_bucktes = pd.value_counts(y_conf_train, bins=10, sort=False)\n",
    "idxs, freqs = conf_bucktes.index, conf_bucktes.values\n",
    "print(\"conf bucket values:\\n\")\n",
    "print(freqs)\n",
    "print(\"conf bucket sum of vals:\\n\")\n",
    "print(freqs.sum())\n",
    "# extract top_c intervals by frequency values\n",
    "intervals_idxs = np.argsort(freqs)[::-1][:top_c]\n",
    "top_c_intervals = idxs[intervals_idxs]\n",
    "\n",
    "# create top_c_lst as the middle of the interval\n",
    "top_c_lst = [(interval.right + interval.left)/2 for interval in top_c_intervals]\n",
    "top_c_lst = sorted(round(x, 4) for x in top_c_lst)"
   ]
  },
  {
   "cell_type": "code",
   "execution_count": 8,
   "metadata": {
    "colab": {
     "base_uri": "https://localhost:8080/"
    },
    "executionInfo": {
     "elapsed": 631,
     "status": "ok",
     "timestamp": 1619040373939,
     "user": {
      "displayName": "Roye Katzav",
      "photoUrl": "",
      "userId": "04460651837835716017"
     },
     "user_tz": -180
    },
    "id": "8NHoxJwYC3wr",
    "outputId": "353f4bc1-e2f3-4234-920f-db0107210638"
   },
   "outputs": [
    {
     "data": {
      "text/plain": [
       "[0.049, 0.15, 0.25, 0.35, 0.45, 0.55, 0.65, 0.75, 0.85, 0.95]"
      ]
     },
     "execution_count": 8,
     "metadata": {},
     "output_type": "execute_result"
    }
   ],
   "source": [
    "top_c_lst "
   ]
  },
  {
   "cell_type": "code",
   "execution_count": 9,
   "metadata": {
    "colab": {
     "base_uri": "https://localhost:8080/"
    },
    "executionInfo": {
     "elapsed": 67524,
     "status": "ok",
     "timestamp": 1619040530735,
     "user": {
      "displayName": "Roye Katzav",
      "photoUrl": "",
      "userId": "04460651837835716017"
     },
     "user_tz": -180
    },
    "id": "ENFBtpuJC3wr",
    "outputId": "bfda20dc-543c-4bb3-dd70-dafb6fb6027b"
   },
   "outputs": [
    {
     "data": {
      "text/plain": [
       "'\\n# X_all = np.concatenate([X_train, y_train.reshape(-1,1)], axis=1)\\n# X_train = X_all \\nX_train_pd = pd.DataFrame(X_train)\\nc = top_c_lst[8]\\n    \\n# train CTGAN\\nz_features = get_noise_features(X_train, categorical_features)\\nz_rows = int(0.25 * X_train.shape[0])\\nz = gen_random_noise(shape=(z_rows, z_features))\\n\\nbatch_size = 50\\nepochs = 5\\nconfidence_level = c\\ngen_lr = 2e-5\\nloss = \\'log\\'\\n\\n\\nrf_ctgan = CTGANSynthesizer(batch_size=batch_size,\\n                            blackbox_model=rf,\\n                            preprocessing_pipeline=preprocessor,\\n                            bb_loss=loss,\\n                            confidence_levels=top_c_lst\\n                            )\\n\\nprint(f\"Training CTGAN for c = {c}...\")\\nallconf_levels_hist = rf_ctgan.fit(train_data=z,\\n                    epochs=epochs,\\n                    gen_lr=gen_lr,\\n                    verbose=False\\n                    )\\n\\n# rf_ctgan.save(f\"{MODELS_PATH}/{dataset}_ctgan_c_{confidence_level}.pkl\")\\n# plot_losses(hist, title=f\\'{dataset} loss, c = {confidence_level}\\')\\n# print()\\n\\n\\nprint(\"\\tGenerate samples to same dist...\")\\n# Generate samples to same dist\\nsamples = 100000\\ngen_data = rf_ctgan.sample(samples,c)\\n'"
      ]
     },
     "execution_count": 9,
     "metadata": {},
     "output_type": "execute_result"
    }
   ],
   "source": [
    "\"\"\"\n",
    "# X_all = np.concatenate([X_train, y_train.reshape(-1,1)], axis=1)\n",
    "# X_train = X_all \n",
    "X_train_pd = pd.DataFrame(X_train)\n",
    "c = top_c_lst[8]\n",
    "    \n",
    "# train CTGAN\n",
    "z_features = get_noise_features(X_train, categorical_features)\n",
    "z_rows = int(0.25 * X_train.shape[0])\n",
    "z = gen_random_noise(shape=(z_rows, z_features))\n",
    "\n",
    "batch_size = 50\n",
    "epochs = 5\n",
    "confidence_level = c\n",
    "gen_lr = 2e-5\n",
    "loss = 'log'\n",
    "\n",
    "\n",
    "rf_ctgan = CTGANSynthesizer(batch_size=batch_size,\n",
    "                            blackbox_model=rf,\n",
    "                            preprocessing_pipeline=preprocessor,\n",
    "                            bb_loss=loss,\n",
    "                            confidence_levels=top_c_lst\n",
    "                            )\n",
    "\n",
    "print(f\"Training CTGAN for c = {c}...\")\n",
    "allconf_levels_hist = rf_ctgan.fit(train_data=z,\n",
    "                    epochs=epochs,\n",
    "                    gen_lr=gen_lr,\n",
    "                    verbose=False\n",
    "                    )\n",
    "\n",
    "# rf_ctgan.save(f\"{MODELS_PATH}/{dataset}_ctgan_c_{confidence_level}.pkl\")\n",
    "# plot_losses(hist, title=f'{dataset} loss, c = {confidence_level}')\n",
    "# print()\n",
    "\n",
    "\n",
    "print(\"\\tGenerate samples to same dist...\")\n",
    "# Generate samples to same dist\n",
    "samples = 100000\n",
    "gen_data = rf_ctgan.sample(samples,c)\n",
    "\"\"\""
   ]
  },
  {
   "cell_type": "code",
   "execution_count": 10,
   "metadata": {
    "id": "L43q2WYBb92y"
   },
   "outputs": [
    {
     "data": {
      "text/plain": [
       "'\\nallgeninv= 0\\nalldataframescoverage =[]\\nalldataframesprecision =[]\\n#add here conf loop, send each conf to samples as input each loop\\nfor c in top_c_lst:\\n    print(\"\\tGenerate samples to same dist...\")\\n    # Generate samples to same dist\\n    samples = 100000\\n    gen_data = rf_ctgan.sample(samples,c)\\n    y_prob = rf.predict_proba(gen_data)\\n    y_conf_gen = y_prob[:, 0]  # confidence scores\\n\\n\\n    # ans is the indices of gen_data to make the same dist\\n    ans = gen_data_to_same_conf_dist_as_train(y_conf_gen, y_conf_train)\\n    gen_data_same_dist = gen_data.iloc[ans]\\n    y_conf_gen_same_dist = y_conf_gen[ans]\\n\\n    # inverse the generated data\\n    scaler = get_scaler(preprocessor)\\n    gen_data_inv = scaler.inverse_transform(gen_data_same_dist)\\n    gen_data_inv = pd.DataFrame(gen_data_inv)\\n    \\n    #calc all inv\\n    \\n    allgeninv = allgeninv + gen_data_inv.size\\n    #calc end\\n\\n    # y_conf_gen_same_dist, gen_data_inv what we want\\n    # results\\n    # E. Calculate coverage for each similarity and conf diff thresholds\\n\\n    #sum all geninvsamples\\n    #allsamplesInv =allsamplesInv + gen_data_inv.size()\\n\\n    print(f\"\\tWorking on results...\")\\n    results,coverage, precision = table(gen_data_inv, X_train_pd, y_conf_gen_same_dist, y_conf_train)\\n    \\n    print(\"datagen inv size:\")\\n    print(gen_data_inv.size)\\n    print(\"\\n\")\\n    \\n    #keep all data frames\\n    alldataframescoverage.append([coverage,gen_data_inv.size])\\n    alldataframesprecision.append([precision,gen_data_inv.size])\\n   # allDataFrames.append(results)\\n\\n    print(f\"\\tResults for confidence level = {c}\")\\n    display(results)\\n    \\n    \\n    \\n\\nprint(\"allgen in size\")\\nprint(allgeninv)\\nprint(\"\\n\")\\nprint(\"calculate weighted average results\\n\")\\na= alldataframescoverage[0][0] *0\\n#display(a)\\nfor index in range(len(alldataframescoverage)):\\n    #func = lambda s1, s2: s1 + s2*alldataframes[index][1]\\n    a= a+ alldataframescoverage[index][0]*alldataframescoverage[index][1]\\na = a/allgeninv\\n#display weighted averaged coverage\\nprint(\"display weighted averaged coverage\\n\")\\ndisplay(a) \\n\\n\\nb= alldataframesprecision[0][0] *0\\n#display(b)\\nfor index in range(len(alldataframesprecision)):\\n    #func = lambda s1, s2: s1 + s2*alldataframes[index][1]\\n    b= b+ alldataframesprecision[index][0]*alldataframesprecision[index][1]\\nb = b/allgeninv\\n#display weighted averaged precision\\nprint(\"display weighted averaged precision\\n\")\\ndisplay(b) \\n\\na = a.astype(str)\\nb = b.astype(str)\\n\\nresult_weighted_Average = a+\" | \"+b\\n\\nprint(\"result_weighted_Average:\\n\")\\ndisplay(result_weighted_Average)\\n\\n'"
      ]
     },
     "execution_count": 10,
     "metadata": {},
     "output_type": "execute_result"
    }
   ],
   "source": [
    "\"\"\"\n",
    "allgeninv= 0\n",
    "alldataframescoverage =[]\n",
    "alldataframesprecision =[]\n",
    "#add here conf loop, send each conf to samples as input each loop\n",
    "for c in top_c_lst:\n",
    "    print(\"\\tGenerate samples to same dist...\")\n",
    "    # Generate samples to same dist\n",
    "    samples = 100000\n",
    "    gen_data = rf_ctgan.sample(samples,c)\n",
    "    y_prob = rf.predict_proba(gen_data)\n",
    "    y_conf_gen = y_prob[:, 0]  # confidence scores\n",
    "\n",
    "\n",
    "    # ans is the indices of gen_data to make the same dist\n",
    "    ans = gen_data_to_same_conf_dist_as_train(y_conf_gen, y_conf_train)\n",
    "    gen_data_same_dist = gen_data.iloc[ans]\n",
    "    y_conf_gen_same_dist = y_conf_gen[ans]\n",
    "\n",
    "    # inverse the generated data\n",
    "    scaler = get_scaler(preprocessor)\n",
    "    gen_data_inv = scaler.inverse_transform(gen_data_same_dist)\n",
    "    gen_data_inv = pd.DataFrame(gen_data_inv)\n",
    "    \n",
    "    #calc all inv\n",
    "    \n",
    "    allgeninv = allgeninv + gen_data_inv.size\n",
    "    #calc end\n",
    "\n",
    "    # y_conf_gen_same_dist, gen_data_inv what we want\n",
    "    # results\n",
    "    # E. Calculate coverage for each similarity and conf diff thresholds\n",
    "\n",
    "    #sum all geninvsamples\n",
    "    #allsamplesInv =allsamplesInv + gen_data_inv.size()\n",
    "\n",
    "    print(f\"\\tWorking on results...\")\n",
    "    results,coverage, precision = table(gen_data_inv, X_train_pd, y_conf_gen_same_dist, y_conf_train)\n",
    "    \n",
    "    print(\"datagen inv size:\")\n",
    "    print(gen_data_inv.size)\n",
    "    print(\"\\n\")\n",
    "    \n",
    "    #keep all data frames\n",
    "    alldataframescoverage.append([coverage,gen_data_inv.size])\n",
    "    alldataframesprecision.append([precision,gen_data_inv.size])\n",
    "   # allDataFrames.append(results)\n",
    "\n",
    "    print(f\"\\tResults for confidence level = {c}\")\n",
    "    display(results)\n",
    "    \n",
    "    \n",
    "    \n",
    "\n",
    "print(\"allgen in size\")\n",
    "print(allgeninv)\n",
    "print(\"\\n\")\n",
    "print(\"calculate weighted average results\\n\")\n",
    "a= alldataframescoverage[0][0] *0\n",
    "#display(a)\n",
    "for index in range(len(alldataframescoverage)):\n",
    "    #func = lambda s1, s2: s1 + s2*alldataframes[index][1]\n",
    "    a= a+ alldataframescoverage[index][0]*alldataframescoverage[index][1]\n",
    "a = a/allgeninv\n",
    "#display weighted averaged coverage\n",
    "print(\"display weighted averaged coverage\\n\")\n",
    "display(a) \n",
    "\n",
    "\n",
    "b= alldataframesprecision[0][0] *0\n",
    "#display(b)\n",
    "for index in range(len(alldataframesprecision)):\n",
    "    #func = lambda s1, s2: s1 + s2*alldataframes[index][1]\n",
    "    b= b+ alldataframesprecision[index][0]*alldataframesprecision[index][1]\n",
    "b = b/allgeninv\n",
    "#display weighted averaged precision\n",
    "print(\"display weighted averaged precision\\n\")\n",
    "display(b) \n",
    "\n",
    "a = a.astype(str)\n",
    "b = b.astype(str)\n",
    "\n",
    "result_weighted_Average = a+\" | \"+b\n",
    "\n",
    "print(\"result_weighted_Average:\\n\")\n",
    "display(result_weighted_Average)\n",
    "\n",
    "\"\"\"\n",
    "\n"
   ]
  },
  {
   "cell_type": "code",
   "execution_count": 11,
   "metadata": {
    "colab": {
     "base_uri": "https://localhost:8080/",
     "height": 402
    },
    "executionInfo": {
     "elapsed": 618,
     "status": "ok",
     "timestamp": 1619040564589,
     "user": {
      "displayName": "Roye Katzav",
      "photoUrl": "",
      "userId": "04460651837835716017"
     },
     "user_tz": -180
    },
    "id": "SIl4JnuHC3ws",
    "outputId": "04f13e75-6df4-442d-abe6-0e8167fa7a52"
   },
   "outputs": [],
   "source": [
    "#gen_data"
   ]
  },
  {
   "cell_type": "code",
   "execution_count": 12,
   "metadata": {
    "executionInfo": {
     "elapsed": 14308,
     "status": "ok",
     "timestamp": 1619040605335,
     "user": {
      "displayName": "Roye Katzav",
      "photoUrl": "",
      "userId": "04460651837835716017"
     },
     "user_tz": -180
    },
    "id": "yLXxWvtkC3ws"
   },
   "outputs": [
    {
     "data": {
      "text/plain": [
       "'\\ny_prob = rf.predict_proba(gen_data)\\ny_conf_gen = y_prob[:, 0]  # confidence scores\\n\\n# ans is the indices of gen_data to make the same dist \\nans = gen_data_to_same_conf_dist_as_train(y_conf_gen, y_conf_train)\\ngen_data_same_dist = gen_data.iloc[ans]\\ny_conf_gen_same_dist = y_conf_gen[ans]\\n'"
      ]
     },
     "execution_count": 12,
     "metadata": {},
     "output_type": "execute_result"
    }
   ],
   "source": [
    "\"\"\"\n",
    "y_prob = rf.predict_proba(gen_data)\n",
    "y_conf_gen = y_prob[:, 0]  # confidence scores\n",
    "\n",
    "# ans is the indices of gen_data to make the same dist \n",
    "ans = gen_data_to_same_conf_dist_as_train(y_conf_gen, y_conf_train)\n",
    "gen_data_same_dist = gen_data.iloc[ans]\n",
    "y_conf_gen_same_dist = y_conf_gen[ans]\n",
    "\"\"\""
   ]
  },
  {
   "cell_type": "code",
   "execution_count": 13,
   "metadata": {
    "colab": {
     "base_uri": "https://localhost:8080/",
     "height": 345
    },
    "executionInfo": {
     "elapsed": 656,
     "status": "ok",
     "timestamp": 1619040614491,
     "user": {
      "displayName": "Roye Katzav",
      "photoUrl": "",
      "userId": "04460651837835716017"
     },
     "user_tz": -180
    },
    "id": "bYHxR9x6C3wt",
    "outputId": "4fa58605-4ab3-42df-d5bb-e3563a0781cf"
   },
   "outputs": [],
   "source": [
    "#plot_confidence_levels(y_conf_gen_same_dist, \"Confidence scores for X_train\")"
   ]
  },
  {
   "cell_type": "code",
   "execution_count": 14,
   "metadata": {
    "executionInfo": {
     "elapsed": 606,
     "status": "ok",
     "timestamp": 1619040622208,
     "user": {
      "displayName": "Roye Katzav",
      "photoUrl": "",
      "userId": "04460651837835716017"
     },
     "user_tz": -180
    },
    "id": "vmU6-j9eC3wt"
   },
   "outputs": [
    {
     "data": {
      "text/plain": [
       "'\\n# inverse the generated data\\nscaler = get_scaler(preprocessor)\\ngen_data_inv = scaler.inverse_transform(gen_data_same_dist)\\ngen_data_inv = pd.DataFrame(gen_data_inv)\\n'"
      ]
     },
     "execution_count": 14,
     "metadata": {},
     "output_type": "execute_result"
    }
   ],
   "source": [
    "\"\"\"\n",
    "# inverse the generated data\n",
    "scaler = get_scaler(preprocessor)\n",
    "gen_data_inv = scaler.inverse_transform(gen_data_same_dist)\n",
    "gen_data_inv = pd.DataFrame(gen_data_inv)\n",
    "\"\"\""
   ]
  },
  {
   "cell_type": "code",
   "execution_count": 16,
   "metadata": {
    "colab": {
     "base_uri": "https://localhost:8080/",
     "height": 229
    },
    "executionInfo": {
     "elapsed": 2492984,
     "status": "ok",
     "timestamp": 1619043116683,
     "user": {
      "displayName": "Roye Katzav",
      "photoUrl": "",
      "userId": "04460651837835716017"
     },
     "user_tz": -180
    },
    "id": "dY0ZOVCCC3wt",
    "outputId": "393a66f0-c718-4cca-c13b-5af463b62e88"
   },
   "outputs": [
    {
     "data": {
      "text/plain": [
       "'\\n# y_conf_gen_same_dist, gen_data_inv what we want\\n# results\\n# E. Calculate coverage for each similarity and conf diff thresholds\\nprint(f\"\\tWorking on results...\")\\nresults,coverage, precision = table(gen_data_inv, X_train_pd, y_conf_gen_same_dist, y_conf_train)\\nprint(f\"\\tResults for confidence level = {c}\")\\ndisplay(results)\\n'"
      ]
     },
     "execution_count": 16,
     "metadata": {},
     "output_type": "execute_result"
    }
   ],
   "source": [
    "\"\"\"\n",
    "# y_conf_gen_same_dist, gen_data_inv what we want\n",
    "# results\n",
    "# E. Calculate coverage for each similarity and conf diff thresholds\n",
    "print(f\"\\tWorking on results...\")\n",
    "results,coverage, precision = table(gen_data_inv, X_train_pd, y_conf_gen_same_dist, y_conf_train)\n",
    "print(f\"\\tResults for confidence level = {c}\")\n",
    "display(results)\n",
    "\"\"\""
   ]
  },
  {
   "cell_type": "code",
   "execution_count": 18,
   "metadata": {},
   "outputs": [
    {
     "name": "stdout",
     "output_type": "stream",
     "text": [
      "y_conf_train_data\n",
      "\n",
      "y_conf_test_data\n",
      "\n",
      "Training CTGAN for c list = [0.049, 0.15, 0.25, 0.35, 0.45, 0.55, 0.65, 0.75, 0.85, 0.95] ...\n",
      "\tGenerate samples to same dist...\n",
      "enter train loop excel\n",
      "\n",
      "enter test loop excel\n",
      "\n",
      "\tGenerate samples to same dist...\n",
      "enter train loop excel\n",
      "\n",
      "enter test loop excel\n",
      "\n",
      "\tGenerate samples to same dist...\n",
      "enter train loop excel\n",
      "\n",
      "enter test loop excel\n",
      "\n",
      "\tGenerate samples to same dist...\n",
      "enter train loop excel\n",
      "\n",
      "enter test loop excel\n",
      "\n",
      "\tGenerate samples to same dist...\n",
      "enter train loop excel\n",
      "\n",
      "enter test loop excel\n",
      "\n",
      "\tGenerate samples to same dist...\n",
      "enter train loop excel\n",
      "\n",
      "enter test loop excel\n",
      "\n",
      "\tGenerate samples to same dist...\n",
      "enter train loop excel\n",
      "\n",
      "enter test loop excel\n",
      "\n",
      "\tGenerate samples to same dist...\n",
      "enter train loop excel\n",
      "\n",
      "enter test loop excel\n",
      "\n",
      "\tGenerate samples to same dist...\n",
      "enter train loop excel\n",
      "\n",
      "enter test loop excel\n",
      "\n",
      "\tGenerate samples to same dist...\n",
      "enter train loop excel\n",
      "\n",
      "enter test loop excel\n",
      "\n"
     ]
    }
   ],
   "source": [
    "import xlsxwriter\n",
    "from sklearn.cluster import KMeans\n",
    "from sklearn.metrics.pairwise import cosine_similarity\n",
    "\n",
    "#create excel file\n",
    "workbook = xlsxwriter.Workbook('Adult_confidences.xlsx')\n",
    "\n",
    "\n",
    "\n",
    "\n",
    "#keeps train and test seperatly\n",
    "#clf.fit(X_train_data, y_train_data)\n",
    "#y_prob_train_data = rf.predict_proba(X_train_data)\n",
    "y_conf_train_data = y_conf_train  # confidence scores\n",
    "#we allready trained with trained data above so only need to chenged\n",
    "#its variable to fit it to code below\n",
    "print(\"y_conf_train_data\\n\")\n",
    "\n",
    "#clf.fit(X_test_data, y_test_data)\n",
    "#no need  to train on test\n",
    "y_prob_test_data = rf.predict_proba(X_test_data)\n",
    "y_conf_test_data = y_prob_test_data[:, 0]  # confidence scores\n",
    "print(\"y_conf_test_data\\n\")\n",
    "#print(y_conf_train)\n",
    "#keeped\n",
    "\n",
    "\n",
    "\n",
    "# X_all = np.concatenate([X_train, y_train.reshape(-1,1)], axis=1)\n",
    "# X_train = X_all\n",
    "X_train_pd = pd.DataFrame(X_train)\n",
    "\n",
    "\n",
    "\n",
    "# train CTGAN\n",
    "z_features = get_noise_features(X_train, categorical_features)\n",
    "z_rows = int(0.25 * X_train.shape[0])\n",
    "z = gen_random_noise(shape=(z_rows, z_features))\n",
    "\n",
    "batch_size = 50\n",
    "epochs = 50\n",
    "#confidence_level = c\n",
    "gen_lr = 2e-5\n",
    "loss = 'log'\n",
    "\n",
    "#now ctgan synthesizer gets conf levels as input\n",
    "rf_ctgan = CTGANSynthesizer(batch_size=batch_size,\n",
    "                            blackbox_model=rf,\n",
    "                            preprocessing_pipeline=preprocessor,\n",
    "                            bb_loss=loss,\n",
    "                            confidence_levels=top_c_lst\n",
    "                            )\n",
    "#print(rf_ctgan.confidence_levels)\n",
    "\n",
    "print(f\"Training CTGAN for c list = {top_c_lst} ...\")\n",
    "#removed conf level from fit input arguements\n",
    "allconf_levels_hist = rf_ctgan.fit(train_data=z,\n",
    "                                   epochs=epochs,\n",
    "                                   gen_lr=gen_lr,\n",
    "                                   verbose=False\n",
    "                                  )\n",
    "\n",
    "#print(\"\\nhistory of all confidence levels:\\n\")\n",
    "#print(allconf_levels_hist)\n",
    "#print(\"\\n\\n\")\n",
    "# rf_ctgan.save(f\"{MODELS_PATH}/{dataset}_ctgan_c_{confidence_level}.pkl\")\n",
    "# plot_losses(hist, title=f'{dataset} loss, c = {confidence_level}')\n",
    "# print()\n",
    "\n",
    "#allsamplesInv = 0\n",
    "#allDataFrames = []\n",
    "#allgeninv= 0\n",
    "#alldataframescoverage =[]\n",
    "#alldataframesprecision =[]\n",
    "freqsCounter = 0\n",
    "#add here conf loop, send each conf to samples as input each loop\n",
    "\n",
    "#to delete\n",
    "#c= top_c_lst[0]\n",
    "#top_c_lst = [c]\n",
    "#delete above\n",
    "for c in top_c_lst:\n",
    "    print(\"\\tGenerate samples to same dist...\")\n",
    "    # Generate samples to same dist\n",
    "    samples = 100000\n",
    "    gen_data = rf_ctgan.sample(samples,c)\n",
    "    y_prob = rf.predict_proba(gen_data)\n",
    "    y_conf_gen = y_prob[:, 0]  # confidence scores\n",
    "\n",
    "\n",
    "    # ans is the indices of gen_data to make the same dist\n",
    "    ans = gen_data_to_same_conf_dist_as_train(y_conf_gen, y_conf_train)\n",
    "    gen_data_same_dist = gen_data.iloc[ans]\n",
    "    y_conf_gen_same_dist = y_conf_gen[ans]\n",
    "\n",
    "    # inverse the generated data\n",
    "    scaler = get_scaler(preprocessor)\n",
    "    gen_data_inv = scaler.inverse_transform(gen_data_same_dist)\n",
    "    #gen_data_inv = pd.DataFrame(gen_data_inv)\n",
    "\n",
    "    #find kmean to geninv ndarray\n",
    "    kmeans = KMeans(n_clusters=1).fit(gen_data_inv)\n",
    "    gen_data_inv_centroide = kmeans.cluster_centers_\n",
    "\n",
    "    #create new worksheet, excel for bin Contains Conf c\n",
    "    name =\"bin Contains Conf \"+str(c)\n",
    "    worksheet = workbook.add_worksheet(name)\n",
    "\n",
    "    #create columns name of excel worksheet\n",
    "    worksheet.write('A1', 'TR/TS_index')\n",
    "    worksheet.write('B1', 'train/test')\n",
    "    worksheet.write('C1', 'cosin_similarity')\n",
    "\n",
    "    #fill the current worksheet excel\n",
    "    row =1\n",
    "    col = 0\n",
    "    #isTrain= True\n",
    "    #j=0\n",
    "    # Iterate over the data and write it out row by row.\n",
    "    #train_counter = 0\n",
    "    #print(X_train_data[0])\n",
    "    #print(X_train_data[0].shape)\n",
    "    #print(gen_data_inv_centroide)\n",
    "    #print(gen_data_inv_centroide.shape)\n",
    "    print(\"enter train loop excel\\n\");\n",
    "    for sample_idx, sample_conf in enumerate (y_conf_train_data):\n",
    "        #if the conf of data is in the current interval\n",
    "        #so we want to add it to the excel bin conf\n",
    "        if(idxs.contains(sample_conf)[freqsCounter]):\n",
    "            #print(\"train entered to excel\\n\")\n",
    "            #down i reshaped to make the train data[freqcount]\n",
    "            #to be in 2D as needed(was 1D) and 1 -1 to make it (1,24)\n",
    "            csm = cosine_similarity(gen_data_inv_centroide, X_train_data[sample_idx].reshape(1,-1)).squeeze()\n",
    "            #print(csm)\n",
    "            #print(sample_idx)\n",
    "            #print(row)\n",
    "            #print(col)\n",
    "            worksheet.write(row, col, sample_idx)\n",
    "            worksheet.write(row, col + 1, 'train')\n",
    "            worksheet.write(row, col + 2, csm)\n",
    "           # isTrain = !isTrain\n",
    "            row += 1\n",
    "            #j+=1\n",
    "            #train_counter+=1\n",
    "\n",
    "\n",
    "\n",
    "    col = 0\n",
    "    #isTrain= True\n",
    "    #j=0\n",
    "    # Iterate over the data and write it out row by row.\n",
    "    #test_counter = 0\n",
    "    #print(y_conf_train_data)\n",
    "    #print(y_conf_test_data)\n",
    "    print(\"enter test loop excel\\n\");\n",
    "    for sample_idx, sample_conf in enumerate (y_conf_test_data):\n",
    "        #print(\"in test loop\\n\")\n",
    "        #if the conf of data is in the current interval bin\n",
    "        #so we want to add it to the excel bin conf\n",
    "        if(idxs.contains(sample_conf)[freqsCounter]):\n",
    "            #print(\"test entered to excel\\n\")\n",
    "            csm = cosine_similarity(gen_data_inv_centroide, X_test_data[sample_idx].reshape(1,-1)).squeeze()\n",
    "            worksheet.write(row, col, sample_idx)\n",
    "            worksheet.write(row, col + 1, 'test')\n",
    "            worksheet.write(row, col + 2, csm)\n",
    "           # isTrain = !isTrain\n",
    "            row += 1\n",
    "            #j+=1\n",
    "            #test_counter+=1\n",
    "\n",
    "\n",
    "\n",
    "    freqsCounter=freqsCounter+1\n",
    "\n",
    "workbook.close()\n",
    "\n",
    "    #calcute and create excel\n"
   ]
  },
  {
   "cell_type": "code",
   "execution_count": null,
   "metadata": {},
   "outputs": [],
   "source": []
  }
 ],
 "metadata": {
  "accelerator": "GPU",
  "colab": {
   "collapsed_sections": [],
   "name": "Adult.ipynb",
   "provenance": []
  },
  "kernelspec": {
   "display_name": "Python 3",
   "language": "python",
   "name": "python3"
  },
  "language_info": {
   "codemirror_mode": {
    "name": "ipython",
    "version": 3
   },
   "file_extension": ".py",
   "mimetype": "text/x-python",
   "name": "python",
   "nbconvert_exporter": "python",
   "pygments_lexer": "ipython3",
   "version": "3.8.0"
  }
 },
 "nbformat": 4,
 "nbformat_minor": 4
}
